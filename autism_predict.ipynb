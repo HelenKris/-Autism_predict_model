{
  "cells": [
    {
      "cell_type": "code",
      "execution_count": 109,
      "metadata": {
        "id": "QAgMgki9KeO3"
      },
      "outputs": [],
      "source": [
        "import pandas as pd\n",
        "import numpy as np\n",
        "import seaborn as sns\n",
        "import matplotlib.pyplot as plt\n",
        "from sklearn.preprocessing import StandardScaler\n",
        "from sklearn.model_selection import GridSearchCV, train_test_split\n",
        "from sklearn.metrics import accuracy_score,f1_score,classification_report\n",
        "from sklearn.metrics import confusion_matrix, ConfusionMatrixDisplay\n",
        "from imblearn.over_sampling import SMOTE\n",
        "from sklearn.pipeline import make_union, make_pipeline\n",
        "from sklearn.preprocessing import FunctionTransformer, StandardScaler, OneHotEncoder\n",
        "from sklearn.ensemble import RandomForestClassifier\n",
        "from sklearn.svm import SVC\n",
        "from sklearn.linear_model import LogisticRegression\n",
        "from sklearn.neighbors import KNeighborsClassifier\n",
        "from xgboost import XGBClassifier\n",
        "from sklearn.metrics import roc_curve, roc_auc_score\n"
      ]
    },
    {
      "cell_type": "code",
      "execution_count": 111,
      "metadata": {
        "colab": {
          "base_uri": "https://localhost:8080/"
        },
        "id": "WeNSsWhILjYM",
        "outputId": "1a42d451-3aa1-4fa1-f315-2c8729f0abbe"
      },
      "outputs": [
        {
          "name": "stdout",
          "output_type": "stream",
          "text": [
            "(800, 14)\n",
            "(800, 16)\n",
            "None\n"
          ]
        }
      ],
      "source": [
        "data = pd.read_csv('./train.csv')\n",
        "def for_prepare(data):\n",
        "    columns_for_drop = ['age_desc','ID','ethnicity','gender','contry_of_res','used_app_before','relation','Class/ASD']\n",
        "    return data.drop(columns_for_drop, axis = 1)\n",
        "\n",
        "df_for_prepare = for_prepare(data)\n",
        "print(df_for_prepare.shape)\n",
        "\n",
        "def get_for_Scale_cols(data):\n",
        "    return data.select_dtypes(include=[np.number]).values\n",
        "\n",
        "def get_OneHotEnc_col(data):\n",
        "    return data.select_dtypes(exclude=[np.number]).values\n",
        "\n",
        "my_prepare = make_union(*[\n",
        "    make_pipeline(FunctionTransformer(get_OneHotEnc_col, validate=False),  OneHotEncoder(sparse_output=False)),\n",
        "    make_pipeline(FunctionTransformer(get_for_Scale_cols, validate=False), StandardScaler())\n",
        "    ])\n",
        "\n",
        "x = my_prepare.fit_transform(df_for_prepare)\n",
        "print(print(x.shape))\n",
        "y = data['Class/ASD'].values"
      ]
    },
    {
      "cell_type": "code",
      "execution_count": 115,
      "metadata": {
        "colab": {
          "base_uri": "https://localhost:8080/"
        },
        "id": "0D2y1t12Nm2f",
        "outputId": "05236359-d9ac-47f5-8f87-b6c763f2955b"
      },
      "outputs": [
        {
          "name": "stdout",
          "output_type": "stream",
          "text": [
            "Размер выборки training: 480, размер выборки для настройки параметров: 160, размер выборки для тестирования: 160\n",
            "\n"
          ]
        }
      ],
      "source": [
        "# Поэтапно поделим выборку на 3 части для обучения, настройки гиперпараметров и тестирования\n",
        "X_trainval, X_test, y_trainval, y_test = train_test_split(x,y,test_size=0.2, stratify=y, random_state=12)\n",
        "X_train, X_valid, y_train, y_valid = train_test_split(X_trainval, y_trainval,stratify=y_trainval, random_state=12)\n",
        "print(\"Размер выборки training: {}, размер выборки для настройки параметров: {}, размер выборки для тестирования:\"\n",
        "      \" {}\\n\".format(X_train.shape[0], X_valid.shape[0], X_test.shape[0]))"
      ]
    },
    {
      "attachments": {},
      "cell_type": "markdown",
      "metadata": {
        "id": "g4arkXa6QIV8"
      },
      "source": [
        "Я настривала гиперпараметры и пробовала применить следующие модели:\n",
        "\n",
        "\n",
        "*   МОДЕЛЬ SVC\n",
        "*   МОДЕЛЬ LogisticRegression\n",
        "*   МОДЕЛЬ RandomForestClassifier\n",
        "*   МОДЕЛЬ XGBoost classifier\n",
        "*   МОДЕЛЬ KNeighborsClassifier\n",
        "\n",
        "Здесь я максимизировала метрику ROC AUC для положительного класса (1), так как в данной задаче критичным является качество модели по определению положительного класса при ранней диагностике аутизма.AUC представляет собой площадь под кривой ROC в диапазоне от 0,0 до 1,0, причем более высокое значение указывает на лучшую производительность классификатора .\n",
        "\n",
        "\n"
      ]
    },
    {
      "attachments": {},
      "cell_type": "markdown",
      "metadata": {
        "id": "3eHecYxMjhKx"
      },
      "source": [
        "# **МОДЕЛЬ SVC**"
      ]
    },
    {
      "cell_type": "code",
      "execution_count": 116,
      "metadata": {
        "colab": {
          "base_uri": "https://localhost:8080/"
        },
        "id": "qeh0eJiygqmc",
        "outputId": "738a63d6-7b6f-4630-e996-ac088fbd3c92"
      },
      "outputs": [
        {
          "name": "stdout",
          "output_type": "stream",
          "text": [
            "Лучший показатель ROC AUC на выборке валидации: 0.91\n",
            "Лучшие параметры:  {'C': 0.01, 'gamma': 0.01}\n",
            "Показатель ROC AUC на выборке валидации: 0.95\n",
            "CPU times: user 681 ms, sys: 803 µs, total: 681 ms\n",
            "Wall time: 695 ms\n"
          ]
        }
      ],
      "source": [
        "%%time\n",
        "best_score = 0\n",
        "for gamma in [0.001, 0.01, 0.1, 1]:\n",
        "    for C in [0.001, 0.01, 0.1, 1]:\n",
        "        model = SVC(gamma=gamma, C=C,probability=True)\n",
        "        model.fit(X_train, y_train)\n",
        "        y_pred_prob = model.predict_proba(X_valid)[:, 1]\n",
        "        fpr, tpr, thresholds = roc_curve(y_valid, y_pred_prob, pos_label=1)\n",
        "        score = roc_auc_score(y_valid, y_pred_prob)\n",
        "        if score > best_score:\n",
        "            best_score = score\n",
        "            best_parameters = {'C': C, 'gamma': gamma}\n",
        "\n",
        "model = SVC(**best_parameters,probability=True)\n",
        "model.fit(X_trainval, y_trainval)\n",
        "y_pred_prob = model.predict_proba(X_test)[:, 1]\n",
        "fpr, tpr, thresholds = roc_curve(y_test, y_pred_prob, pos_label=1)\n",
        "test_roc_auc_score = roc_auc_score(y_test, y_pred_prob)\n",
        "print(\"Лучший показатель ROC AUC на выборке валидации: {:.2f}\".format(best_score))\n",
        "print(\"Лучшие параметры: \", best_parameters)\n",
        "print(\"Показатель ROC AUC на выборке валидации: {:.2f}\".format(test_roc_auc_score))"
      ]
    },
    {
      "attachments": {},
      "cell_type": "markdown",
      "metadata": {
        "id": "kmYgC-4Ml2O1"
      },
      "source": [
        "# **МОДЕЛЬ LogisticRegression**"
      ]
    },
    {
      "cell_type": "code",
      "execution_count": 117,
      "metadata": {
        "colab": {
          "base_uri": "https://localhost:8080/"
        },
        "id": "HQBLVOYpj44g",
        "outputId": "89e06892-f682-4a00-c410-e0b534e04b05"
      },
      "outputs": [
        {
          "name": "stdout",
          "output_type": "stream",
          "text": [
            "Лучший показатель ROC AUC на выборке валидации: 0.91\n",
            "Лучшие параметры:  {'C': 0.1, 'solver': 'saga', 'penalty': 'l2'}\n",
            "Показатель ROC AUC на выборке валидации: 0.95\n",
            "CPU times: user 255 ms, sys: 1.56 ms, total: 257 ms\n",
            "Wall time: 259 ms\n"
          ]
        }
      ],
      "source": [
        "%%time\n",
        "best_score = 0\n",
        "for penalty in ['l1', 'l2']:\n",
        "    for C in [0.01, 0.1, 1, 10]:\n",
        "        model = LogisticRegression(solver='saga',penalty = penalty, C=C, max_iter = 1000)\n",
        "        model.fit(X_train, y_train)\n",
        "        y_pred_prob = model.predict_proba(X_valid)[:, 1]\n",
        "        fpr, tpr, thresholds = roc_curve(y_valid, y_pred_prob, pos_label=1)\n",
        "        score = roc_auc_score(y_valid, y_pred_prob)\n",
        "        if score > best_score:\n",
        "            best_score = score\n",
        "            best_parameters = {'C': C, 'solver': 'saga','penalty': penalty}\n",
        "\n",
        "model =LogisticRegression(**best_parameters)\n",
        "model.fit(X_trainval, y_trainval)\n",
        "y_pred_prob = model.predict_proba(X_test)[:, 1]\n",
        "fpr, tpr, thresholds = roc_curve(y_test, y_pred_prob, pos_label=1)\n",
        "test_roc_auc_score = roc_auc_score(y_test, y_pred_prob)\n",
        "print(\"Лучший показатель ROC AUC на выборке валидации: {:.2f}\".format(best_score))\n",
        "print(\"Лучшие параметры: \", best_parameters)\n",
        "print(\"Показатель ROC AUC на выборке валидации: {:.2f}\".format(test_roc_auc_score))"
      ]
    },
    {
      "attachments": {},
      "cell_type": "markdown",
      "metadata": {
        "id": "QfasPjTunCwC"
      },
      "source": [
        "# **МОДЕЛЬ RandomForestClassifier**\n",
        "\n",
        "---\n",
        "\n"
      ]
    },
    {
      "cell_type": "code",
      "execution_count": 118,
      "metadata": {
        "colab": {
          "base_uri": "https://localhost:8080/"
        },
        "id": "QLSTzk0RnCFN",
        "outputId": "604f7c13-2e9b-4b67-ba8d-26b6f6df6aba"
      },
      "outputs": [
        {
          "name": "stdout",
          "output_type": "stream",
          "text": [
            "Лучший показатель ROC AUC на выборке валидации: 0.92\n",
            "Лучшие параметры:  {'n_estimators': 5, 'max_depth': 5, 'min_samples_split': 2}\n",
            "Показатель ROC AUC на выборке валидации: 0.93\n",
            "CPU times: user 7 s, sys: 29.9 ms, total: 7.03 s\n",
            "Wall time: 7.54 s\n"
          ]
        }
      ],
      "source": [
        "%%time\n",
        "\n",
        "best_score = 0\n",
        "for n_estimators in [5, 20, 100, 150]:\n",
        "    for max_depth in [None,3, 5, 10]:\n",
        "        for min_samples_split in [2, 5, 10]:\n",
        "            model = RandomForestClassifier(n_estimators=n_estimators, max_depth=max_depth,min_samples_split = min_samples_split, class_weight='balanced')\n",
        "            model.fit(X_train, y_train)\n",
        "            y_pred_prob = model.predict_proba(X_valid)[:, 1]\n",
        "            fpr, tpr, thresholds = roc_curve(y_valid, y_pred_prob, pos_label=1)\n",
        "            score = roc_auc_score(y_valid, y_pred_prob)\n",
        "            if score > best_score:\n",
        "                best_score = score\n",
        "                best_parameters = {'n_estimators': n_estimators, 'max_depth': max_depth, 'min_samples_split': min_samples_split}\n",
        "\n",
        "model =RandomForestClassifier(**best_parameters)\n",
        "model.fit(X_trainval, y_trainval)\n",
        "y_pred_prob = model.predict_proba(X_test)[:, 1]\n",
        "fpr, tpr, thresholds = roc_curve(y_test, y_pred_prob, pos_label=1)\n",
        "test_roc_auc_score = roc_auc_score(y_test, y_pred_prob)\n",
        "print(\"Лучший показатель ROC AUC на выборке валидации: {:.2f}\".format(best_score))\n",
        "print(\"Лучшие параметры: \", best_parameters)\n",
        "print(\"Показатель ROC AUC на выборке валидации: {:.2f}\".format(test_roc_auc_score))"
      ]
    },
    {
      "attachments": {},
      "cell_type": "markdown",
      "metadata": {
        "id": "aoqQ8gk6-1fl"
      },
      "source": [
        "# **МОДЕЛЬ XGBoost classifier**"
      ]
    },
    {
      "cell_type": "code",
      "execution_count": 119,
      "metadata": {
        "colab": {
          "base_uri": "https://localhost:8080/"
        },
        "id": "E1w5SnT9-z_P",
        "outputId": "4b1a869f-ba3b-4307-a2e8-3de9084a0785"
      },
      "outputs": [
        {
          "name": "stdout",
          "output_type": "stream",
          "text": [
            "Лучший показатель ROC AUC на выборке валидации: 0.92\n",
            "Лучшие параметры:  {'n_estimators': 100, 'max_depth': 2, 'learning_rate': 0.2, 'gamma': 0.9}\n",
            "Показатель ROC AUC на выборке валидации: 0.93\n",
            "CPU times: user 12.3 s, sys: 242 ms, total: 12.5 s\n",
            "Wall time: 6.81 s\n"
          ]
        }
      ],
      "source": [
        "%%time\n",
        "\n",
        "best_score = 0\n",
        "for n_estimators in [5, 20, 100]:\n",
        "    for max_depth in [2, 3, 5, 7]:\n",
        "        for learning_rate in [0.1, 0.01, 0.001, 0.2]:\n",
        "            for gamma in [0.2, 0.4, 0.6, 0.9]:\n",
        "                model = XGBClassifier(n_estimators=n_estimators, max_depth=max_depth,learning_rate = learning_rate,\n",
        "                gamma = gamma)\n",
        "                model.fit(X_train, y_train)\n",
        "                y_pred_prob = model.predict_proba(X_valid)[:, 1]\n",
        "                fpr, tpr, thresholds = roc_curve(y_valid, y_pred_prob, pos_label=1)\n",
        "                score = roc_auc_score(y_valid, y_pred_prob)\n",
        "                if score > best_score:\n",
        "                    best_score = score\n",
        "                    best_parameters = {'n_estimators': n_estimators, 'max_depth': max_depth,\n",
        "                                       'learning_rate': learning_rate,\n",
        "                                       'gamma': gamma}\n",
        "model =XGBClassifier(**best_parameters)\n",
        "model.fit(X_trainval, y_trainval)\n",
        "y_pred_prob = model.predict_proba(X_test)[:, 1]\n",
        "fpr, tpr, thresholds = roc_curve(y_test, y_pred_prob, pos_label=1)\n",
        "test_roc_auc_score = roc_auc_score(y_test, y_pred_prob)\n",
        "print(\"Лучший показатель ROC AUC на выборке валидации: {:.2f}\".format(best_score))\n",
        "print(\"Лучшие параметры: \", best_parameters)\n",
        "print(\"Показатель ROC AUC на выборке валидации: {:.2f}\".format(test_roc_auc_score))"
      ]
    },
    {
      "attachments": {},
      "cell_type": "markdown",
      "metadata": {
        "id": "ohcez-B0WxKA"
      },
      "source": [
        "# **МОДЕЛЬ KNeighborsClassifier**"
      ]
    },
    {
      "cell_type": "code",
      "execution_count": 120,
      "metadata": {
        "colab": {
          "base_uri": "https://localhost:8080/"
        },
        "id": "vYk4SsdaUKEN",
        "outputId": "4fda0bd6-2a7a-41ec-fddf-678acdae1f9c"
      },
      "outputs": [
        {
          "name": "stdout",
          "output_type": "stream",
          "text": [
            "Лучший показатель ROC AUC на выборке валидации: 0.89\n",
            "Лучшие параметры:  {'weights': 'distance', 'n_neighbors': 15}\n",
            "Показатель ROC AUC на выборке валидации: 0.92\n",
            "CPU times: user 993 ms, sys: 4.6 ms, total: 997 ms\n",
            "Wall time: 1.03 s\n"
          ]
        }
      ],
      "source": [
        "%%time\n",
        "best_score = 0\n",
        "\n",
        "for n_neighbors in [3, 5, 8, 12, 15]:\n",
        "    for weights in ['uniform', 'distance']:\n",
        "        model = KNeighborsClassifier(n_neighbors = n_neighbors, weights=weights)\n",
        "        model.fit(X_train, y_train)\n",
        "        y_pred_prob = model.predict_proba(X_valid)[:, 1]\n",
        "        fpr, tpr, thresholds = roc_curve(y_valid, y_pred_prob, pos_label=1)\n",
        "        score = roc_auc_score(y_valid, y_pred_prob)\n",
        "        if score > best_score:\n",
        "            best_score = score\n",
        "            best_parameters = {'weights': weights, 'n_neighbors': n_neighbors}\n",
        "\n",
        "model =KNeighborsClassifier(**best_parameters)\n",
        "model.fit(X_trainval, y_trainval)\n",
        "y_pred_prob = model.predict_proba(X_test)[:, 1]\n",
        "fpr, tpr, thresholds = roc_curve(y_test, y_pred_prob, pos_label=1)\n",
        "test_roc_auc_score = roc_auc_score(y_test, y_pred_prob)\n",
        "print(\"Лучший показатель ROC AUC на выборке валидации: {:.2f}\".format(best_score))\n",
        "print(\"Лучшие параметры: \", best_parameters)\n",
        "print(\"Показатель ROC AUC на выборке валидации: {:.2f}\".format(test_roc_auc_score))"
      ]
    },
    {
      "attachments": {},
      "cell_type": "markdown",
      "metadata": {
        "id": "4kV5Eo14W1-H"
      },
      "source": [
        "# **ВЫБОР МОДЕЛИ:**\n",
        "# Лучше всего зарекомендовала себя модель LogisticRegression(solver='saga',penalty = 'l2', C=0.01, max_iter = 1000). С подобранными гиперпараметрами для этой модели показатель ROC AUC для положительного класса на выборке валидации: 0.95.\n",
        "Wall time: 343 ms"
      ]
    },
    {
      "cell_type": "code",
      "execution_count": 121,
      "metadata": {
        "colab": {
          "base_uri": "https://localhost:8080/",
          "height": 75
        },
        "id": "GbSTe-YFYjXD",
        "outputId": "232fcfa9-f44d-43b9-82d8-e0611c259e4b"
      },
      "outputs": [
        {
          "data": {
            "text/html": [
              "<style>#sk-container-id-5 {color: black;background-color: white;}#sk-container-id-5 pre{padding: 0;}#sk-container-id-5 div.sk-toggleable {background-color: white;}#sk-container-id-5 label.sk-toggleable__label {cursor: pointer;display: block;width: 100%;margin-bottom: 0;padding: 0.3em;box-sizing: border-box;text-align: center;}#sk-container-id-5 label.sk-toggleable__label-arrow:before {content: \"▸\";float: left;margin-right: 0.25em;color: #696969;}#sk-container-id-5 label.sk-toggleable__label-arrow:hover:before {color: black;}#sk-container-id-5 div.sk-estimator:hover label.sk-toggleable__label-arrow:before {color: black;}#sk-container-id-5 div.sk-toggleable__content {max-height: 0;max-width: 0;overflow: hidden;text-align: left;background-color: #f0f8ff;}#sk-container-id-5 div.sk-toggleable__content pre {margin: 0.2em;color: black;border-radius: 0.25em;background-color: #f0f8ff;}#sk-container-id-5 input.sk-toggleable__control:checked~div.sk-toggleable__content {max-height: 200px;max-width: 100%;overflow: auto;}#sk-container-id-5 input.sk-toggleable__control:checked~label.sk-toggleable__label-arrow:before {content: \"▾\";}#sk-container-id-5 div.sk-estimator input.sk-toggleable__control:checked~label.sk-toggleable__label {background-color: #d4ebff;}#sk-container-id-5 div.sk-label input.sk-toggleable__control:checked~label.sk-toggleable__label {background-color: #d4ebff;}#sk-container-id-5 input.sk-hidden--visually {border: 0;clip: rect(1px 1px 1px 1px);clip: rect(1px, 1px, 1px, 1px);height: 1px;margin: -1px;overflow: hidden;padding: 0;position: absolute;width: 1px;}#sk-container-id-5 div.sk-estimator {font-family: monospace;background-color: #f0f8ff;border: 1px dotted black;border-radius: 0.25em;box-sizing: border-box;margin-bottom: 0.5em;}#sk-container-id-5 div.sk-estimator:hover {background-color: #d4ebff;}#sk-container-id-5 div.sk-parallel-item::after {content: \"\";width: 100%;border-bottom: 1px solid gray;flex-grow: 1;}#sk-container-id-5 div.sk-label:hover label.sk-toggleable__label {background-color: #d4ebff;}#sk-container-id-5 div.sk-serial::before {content: \"\";position: absolute;border-left: 1px solid gray;box-sizing: border-box;top: 0;bottom: 0;left: 50%;z-index: 0;}#sk-container-id-5 div.sk-serial {display: flex;flex-direction: column;align-items: center;background-color: white;padding-right: 0.2em;padding-left: 0.2em;position: relative;}#sk-container-id-5 div.sk-item {position: relative;z-index: 1;}#sk-container-id-5 div.sk-parallel {display: flex;align-items: stretch;justify-content: center;background-color: white;position: relative;}#sk-container-id-5 div.sk-item::before, #sk-container-id-5 div.sk-parallel-item::before {content: \"\";position: absolute;border-left: 1px solid gray;box-sizing: border-box;top: 0;bottom: 0;left: 50%;z-index: -1;}#sk-container-id-5 div.sk-parallel-item {display: flex;flex-direction: column;z-index: 1;position: relative;background-color: white;}#sk-container-id-5 div.sk-parallel-item:first-child::after {align-self: flex-end;width: 50%;}#sk-container-id-5 div.sk-parallel-item:last-child::after {align-self: flex-start;width: 50%;}#sk-container-id-5 div.sk-parallel-item:only-child::after {width: 0;}#sk-container-id-5 div.sk-dashed-wrapped {border: 1px dashed gray;margin: 0 0.4em 0.5em 0.4em;box-sizing: border-box;padding-bottom: 0.4em;background-color: white;}#sk-container-id-5 div.sk-label label {font-family: monospace;font-weight: bold;display: inline-block;line-height: 1.2em;}#sk-container-id-5 div.sk-label-container {text-align: center;}#sk-container-id-5 div.sk-container {/* jupyter's `normalize.less` sets `[hidden] { display: none; }` but bootstrap.min.css set `[hidden] { display: none !important; }` so we also need the `!important` here to be able to override the default hidden behavior on the sphinx rendered scikit-learn.org. See: https://github.com/scikit-learn/scikit-learn/issues/21755 */display: inline-block !important;position: relative;}#sk-container-id-5 div.sk-text-repr-fallback {display: none;}</style><div id=\"sk-container-id-5\" class=\"sk-top-container\"><div class=\"sk-text-repr-fallback\"><pre>LogisticRegression(C=0.01, max_iter=1000, solver=&#x27;saga&#x27;)</pre><b>In a Jupyter environment, please rerun this cell to show the HTML representation or trust the notebook. <br />On GitHub, the HTML representation is unable to render, please try loading this page with nbviewer.org.</b></div><div class=\"sk-container\" hidden><div class=\"sk-item\"><div class=\"sk-estimator sk-toggleable\"><input class=\"sk-toggleable__control sk-hidden--visually\" id=\"sk-estimator-id-5\" type=\"checkbox\" checked><label for=\"sk-estimator-id-5\" class=\"sk-toggleable__label sk-toggleable__label-arrow\">LogisticRegression</label><div class=\"sk-toggleable__content\"><pre>LogisticRegression(C=0.01, max_iter=1000, solver=&#x27;saga&#x27;)</pre></div></div></div></div></div>"
            ],
            "text/plain": [
              "LogisticRegression(C=0.01, max_iter=1000, solver='saga')"
            ]
          },
          "execution_count": 121,
          "metadata": {},
          "output_type": "execute_result"
        }
      ],
      "source": [
        "model = LogisticRegression(solver='saga',penalty = 'l2', C=0.01, max_iter = 1000)\n",
        "model.fit(x,y)"
      ]
    },
    {
      "attachments": {},
      "cell_type": "markdown",
      "metadata": {
        "id": "pfRBvm3lt143"
      },
      "source": [
        "# **Сохраняем модель**"
      ]
    },
    {
      "cell_type": "code",
      "execution_count": 122,
      "metadata": {
        "id": "OFiBrX56t143"
      },
      "outputs": [],
      "source": [
        "import pickle\n",
        "filename = 'finalized_model.sav'\n",
        "pickle.dump(model, open(filename, 'wb'))"
      ]
    },
    {
      "attachments": {},
      "cell_type": "markdown",
      "metadata": {
        "id": "MYkxL3CBlL5c"
      },
      "source": [
        "К сожалению, для того, чтобы выяснить, названия самых значимых факторов в данной модели, придется проделать эти же приобразования с данными второй раз, использую не OneHot в make_pipeline, а pd.get_dummies, а потом снова обучить модель и посмотреть на постороенном графике на значимость факторов."
      ]
    },
    {
      "cell_type": "code",
      "execution_count": 123,
      "metadata": {
        "colab": {
          "base_uri": "https://localhost:8080/",
          "height": 994
        },
        "id": "Q86vgAmZlL5d",
        "outputId": "34d4cb6d-fa12-4637-f72f-c82bc328b56e"
      },
      "outputs": [
        {
          "name": "stdout",
          "output_type": "stream",
          "text": [
            "(800, 16)\n"
          ]
        },
        {
          "data": {
            "text/plain": [
              "[Text(0, 0, '-0.081'),\n",
              " Text(0, 0, '-0.019'),\n",
              " Text(0, 0, '0.019'),\n",
              " Text(0, 0, '0.05'),\n",
              " Text(0, 0, '0.081'),\n",
              " Text(0, 0, '0.087'),\n",
              " Text(0, 0, '0.108'),\n",
              " Text(0, 0, '0.143'),\n",
              " Text(0, 0, '0.161'),\n",
              " Text(0, 0, '0.174'),\n",
              " Text(0, 0, '0.176'),\n",
              " Text(0, 0, '0.203'),\n",
              " Text(0, 0, '0.21'),\n",
              " Text(0, 0, '0.214'),\n",
              " Text(0, 0, '0.214'),\n",
              " Text(0, 0, '0.297')]"
            ]
          },
          "execution_count": 123,
          "metadata": {},
          "output_type": "execute_result"
        },
        {
          "data": {
            "image/png": "[encoded data removed]",
            "text/plain": [
              "<Figure size 1200x800 with 1 Axes>"
            ]
          },
          "metadata": {},
          "output_type": "display_data"
        }
      ],
      "source": [
        "data = pd.read_csv('./train.csv')\n",
        "df = for_prepare(data)\n",
        "col_names = df.select_dtypes(include=[np.number]).columns\n",
        "features = df.select_dtypes(include=[np.number])\n",
        "scaler = StandardScaler().fit(features.values)\n",
        "features = scaler.transform(features.values)\n",
        "scaled_features = pd.DataFrame(features, columns = col_names)\n",
        "obj_df = df.select_dtypes(exclude=[np.number])\n",
        "obj_df = pd.get_dummies(obj_df, prefix=None, prefix_sep='_', dummy_na=False, columns=None, sparse=False, drop_first=False, dtype=None)\n",
        "newdf =pd.concat([scaled_features,obj_df],axis=1, join=\"inner\")\n",
        "print(newdf.shape)\n",
        "x = newdf.values\n",
        "y = data['Class/ASD'].values\n",
        "\n",
        "# Поэтапно поделим выборку на 3 части для обучения, настройки гиперпараметров и тестирования\n",
        "X_trainval, X_test, y_trainval, y_test = train_test_split(x,y,test_size=0.2, stratify=y, random_state=12)\n",
        "X_train, X_valid, y_train, y_valid = train_test_split(X_trainval, y_trainval,stratify=y_trainval, random_state=12)\n",
        "\n",
        "model =LogisticRegression(solver='saga',penalty = 'l2', C=0.01, max_iter = 4000)\n",
        "model.fit(X_trainval, y_trainval)\n",
        "coef = model.coef_.ravel()\n",
        "feature_imp = list(round(x,3) for x in coef)\n",
        "factors_names = newdf.columns\n",
        "df_plot = pd.DataFrame({'Коэффициенты значимости': feature_imp}, factors_names).sort_values(['Коэффициенты значимости'])\n",
        "ax = df_plot.plot(kind='barh', figsize=(12, 8), title='Коэффициенты модели LogisticRegression',\n",
        "             ylabel='Название признаков', legend=False, color='green')\n",
        "ax.bar_label(ax.containers[0], label_type='edge')"
      ]
    },
    {
      "attachments": {},
      "cell_type": "markdown",
      "metadata": {
        "id": "doHQWK21nGir"
      },
      "source": [
        "# **ВЫВОДЫ: **\n",
        "\n",
        "1. Лучше всего зарекомендовала себя модель LogisticRegression(solver='saga',penalty = 'l2', C=0.01, max_iter = 1000). С подобранными гиперпараметрами для этой модели показатель ROC AUC для положительного класса на выборке валидации: 0.95.\n",
        "\n",
        "2.   Первых 5 наиболее значимых факторов по выбранной модели (в порядке убывания):\n",
        "\n",
        "*   A6_Score (0.297)\n",
        "*   A5_Score (0.214)\n",
        "*   A4_Score (0.214)\n",
        "*   A9_Score (0.21)\n",
        "*   A3_Score (0.203)\n",
        "\n",
        "\n",
        "\n",
        "\n",
        "\n",
        "\n",
        "\n",
        "\n",
        "\n",
        "\n",
        "\n",
        "\n",
        "\n",
        "\n"
      ]
    },
    {
      "attachments": {},
      "cell_type": "markdown",
      "metadata": {
        "id": "Ma0EsD-Taa5j"
      },
      "source": [
        "# **Расставляем классы в тестовом наборе, используя нашу модель. Сохраняем файл с ответами.**"
      ]
    },
    {
      "cell_type": "code",
      "execution_count": 124,
      "metadata": {
        "id": "jM24TyZhaS1a"
      },
      "outputs": [],
      "source": [
        "test_with_classes = pd.read_csv('./test.csv')\n",
        "def for_prepare(data):\n",
        "    columns_for_drop = ['age_desc','ID','ethnicity','gender','contry_of_res','used_app_before','relation']\n",
        "    return data.drop(columns_for_drop, axis = 1)\n",
        "\n",
        "df_for_prepare = for_prepare(test_with_classes)\n",
        "\n",
        "\n",
        "def get_for_Scale_cols(data):\n",
        "    return data.select_dtypes(include=[np.number]).values\n",
        "\n",
        "def get_OneHotEnc_col(data):\n",
        "    return data.select_dtypes(exclude=[np.number]).values\n",
        "\n",
        "my_prepare = make_union(*[\n",
        "    make_pipeline(FunctionTransformer(get_OneHotEnc_col, validate=False),  OneHotEncoder(sparse_output=False)),\n",
        "    make_pipeline(FunctionTransformer(get_for_Scale_cols, validate=False), StandardScaler())\n",
        "    ])\n",
        "\n",
        "x_new = my_prepare.fit_transform(df_for_prepare)\n",
        "test_with_classes['Class/ASD'] = model.predict(x_new)\n",
        "test_with_classes.to_csv(\"test_with_classes.csv\", index=False)"
      ]
    }
  ],
  "metadata": {
    "colab": {
      "provenance": []
    },
    "kernelspec": {
      "display_name": "Python 3",
      "name": "python3"
    },
    "language_info": {
      "name": "python",
      "version": "3.9.13"
    }
  },
  "nbformat": 4,
  "nbformat_minor": 0
}
